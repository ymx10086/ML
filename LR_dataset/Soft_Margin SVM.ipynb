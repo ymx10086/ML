{
 "cells": [
  {
   "cell_type": "code",
   "execution_count": 1,
   "id": "d8b785dd",
   "metadata": {},
   "outputs": [],
   "source": [
    "#导入相关模块\n",
    "import numpy as np\n",
    "import pandas as pd\n",
    "import matplotlib.pyplot as plt\n",
    "from cvxopt import matrix, solvers"
   ]
  },
  {
   "cell_type": "code",
   "execution_count": 2,
   "id": "86f12e1b",
   "metadata": {},
   "outputs": [
    {
     "name": "stdout",
     "output_type": "stream",
     "text": [
      "(160, 2) (160,) (40, 2) (40,)\n"
     ]
    }
   ],
   "source": [
    "#生成近似线性可分模拟数据集\n",
    "mean1, mean2 = np.array([0, 2]), np.array([2, 0])\n",
    "covar = np.array([[1.5, 1.0], [1.0, 1.5]])\n",
    "X1 = np.random.multivariate_normal(mean1, covar, 100)\n",
    "y1 = np.ones(X1.shape[0])\n",
    "X2 = np.random.multivariate_normal(mean2, covar, 100)\n",
    "y2 = -1 * np.ones(X2.shape[0])\n",
    "X_train = np.vstack((X1[:80], X2[:80]))\n",
    "y_train = np.hstack((y1[:80], y2[:80]))\n",
    "X_test = np.vstack((X1[80:], X2[80:]))\n",
    "y_test = np.hstack((y1[80:], y2[80:]))\n",
    "print(X_train.shape, y_train.shape, X_test.shape, y_test.shape)"
   ]
  },
  {
   "cell_type": "code",
   "execution_count": 3,
   "id": "53216684",
   "metadata": {},
   "outputs": [
    {
     "data": {
      "image/png": "[encoded data removed]",
      "text/plain": [
       "<Figure size 432x288 with 1 Axes>"
      ]
     },
     "metadata": {
      "needs_background": "light"
     },
     "output_type": "display_data"
    }
   ],
   "source": [
    "# 设置颜色参数\n",
    "colors = {1:'r', -1:'g'}\n",
    "# 绘制二分类数据集的散点图\n",
    "plt.scatter(X_train[:,0], X_train[:,1], marker='o', c=pd.Series(y_train).map(colors))\n",
    "plt.show();"
   ]
  },
  {
   "cell_type": "code",
   "execution_count": 4,
   "id": "b9b0de85",
   "metadata": {},
   "outputs": [],
   "source": [
    "###定义一个线性核函数\n",
    "def linear_kernel(x1, x2):\n",
    "    '''\n",
    "    输入：\n",
    "    x1:向量1\n",
    "    x2:向量2\n",
    "    输出：\n",
    "    np.dot(x1, x2)\n",
    "    '''\n",
    "    return np.dot(x1, x2)"
   ]
  },
  {
   "cell_type": "code",
   "execution_count": 20,
   "id": "0c91e7d0",
   "metadata": {},
   "outputs": [],
   "source": [
    "### 定义近似线性可分支持向量机\n",
    "### 软间隔最大化策略\n",
    "class Soft_Margin_SVM:\n",
    "    ### 定义基本参数\n",
    "    def __init__(self, kernel=linear_kernel, C=None):\n",
    "        # 软间隔svm核函数，默认为线性核函数\n",
    "        self.kernel = kernel\n",
    "        # 惩罚参数\n",
    "        self.C = C\n",
    "        if self.C is not None: \n",
    "            self.C = float(self.C)\n",
    "        print(C)\n",
    "    \n",
    "    ### 定义线性支持向量机拟合方法\n",
    "    def fit(self, X, y):\n",
    "        # 训练样本数和特征数\n",
    "        m, n = X.shape\n",
    "        \n",
    "        # 基于线性核计算Gram矩阵\n",
    "        K = self._gram_matrix(X)\n",
    "        print(K)\n",
    "                \n",
    "        # 初始化二次规划相关变量：P/q/G/h\n",
    "        P = matrix(np.outer(y,y) * K)\n",
    "        q = matrix(np.ones(m) * -1)\n",
    "        A = matrix(y, (1, m))\n",
    "        b = matrix(0.0)\n",
    "        \n",
    "        # 未设置惩罚参数时的G和h矩阵\n",
    "        if self.C is None:\n",
    "            G = matrix(np.diag(np.ones(m) * -1))\n",
    "            h = matrix(np.zeros(m))\n",
    "        # 设置惩罚参数时的G和h矩阵\n",
    "        else:\n",
    "            tmp1 = np.diag(np.ones(m) * -1)\n",
    "            tmp2 = np.identity(m)\n",
    "            G = matrix(np.vstack((tmp1, tmp2)))\n",
    "            tmp1 = np.zeros(m)\n",
    "            tmp2 = np.ones(m) * self.C\n",
    "            h = matrix(np.hstack((tmp1, tmp2)))\n",
    "\n",
    "        # 构建二次规划求解\n",
    "        sol = solvers.qp(P, q, G, h, A, b)\n",
    "        # 拉格朗日乘子\n",
    "        a = np.ravel(sol['x'])\n",
    "\n",
    "        # 寻找支持向量\n",
    "        spv = a > 1e-5\n",
    "        ix = np.arange(len(a))[spv]\n",
    "        self.a = a[spv]\n",
    "        self.spv = X[spv]\n",
    "        self.spv_y = y[spv]\n",
    "        print('{0} support vectors out of {1} points'.format(len(self.a), m))\n",
    "\n",
    "        # 截距向量\n",
    "        self.b = 0\n",
    "        for i in range(len(self.a)):\n",
    "            self.b += self.spv_y[i]\n",
    "            self.b -= np.sum(self.a * self.spv_y * K[ix[i], spv])\n",
    "        self.b /= len(self.a)\n",
    "\n",
    "        # 权重向量\n",
    "        self.w = np.zeros(n,)\n",
    "        for i in range(len(self.a)):\n",
    "            self.w += self.a[i] * self.spv_y[i] * self.spv[i]\n",
    "\n",
    "    ### 定义Gram矩阵计算函数\n",
    "    def _gram_matrix(self, X):\n",
    "        m, n = X.shape\n",
    "        K = np.zeros((m, m))\n",
    "        # 遍历计算Gram矩阵\n",
    "        for i in range(m):\n",
    "            for j in range(m):\n",
    "                K[i,j] = self.kernel(X[i], X[j])\n",
    "        return K\n",
    "    \n",
    "    ### 定义映射函数\n",
    "    def project(self, X):\n",
    "        if self.w is not None:\n",
    "            return np.dot(X, self.w) + self.b\n",
    "    \n",
    "    ### 定义模型预测函数\n",
    "    def predict(self, X):\n",
    "        return np.sign(np.dot(self.w, X.T) + self.b)"
   ]
  },
  {
   "cell_type": "code",
   "execution_count": 19,
   "id": "087076c5",
   "metadata": {},
   "outputs": [
    {
     "name": "stdout",
     "output_type": "stream",
     "text": [
      "0.1\n",
      "[[ 3.09618721  6.17920455  3.8827776  ... -1.10478655 -3.20165834\n",
      "  -0.18182766]\n",
      " [ 6.17920455 22.45689168 13.75848292 ...  3.7023794  -7.89995315\n",
      "   5.19632834]\n",
      " [ 3.8827776  13.75848292  8.43604118 ...  2.120726   -4.91143899\n",
      "   3.07158673]\n",
      " ...\n",
      " [-1.10478655  3.7023794   2.120726   ...  3.84077428  0.26126889\n",
      "   3.30837836]\n",
      " [-3.20165834 -7.89995315 -4.91143899 ...  0.26126889  3.53599864\n",
      "  -0.64121482]\n",
      " [-0.18182766  5.19632834  3.07158673 ...  3.30837836 -0.64121482\n",
      "   3.06307627]]\n",
      "asdfcs [ 1.00e+00  1.00e+00  1.00e+00  1.00e+00  1.00e+00  1.00e+00  1.00e+00 ... ]\n",
      "\n",
      "     pcost       dcost       gap    pres   dres\n",
      " 0: -1.7412e+01 -2.6851e+01  8e+02  2e+01  9e-15\n",
      " 1: -3.2627e+00 -2.4448e+01  6e+01  1e+00  5e-15\n",
      " 2: -1.7153e+00 -9.5078e+00  1e+01  1e-01  1e-15\n",
      " 3: -1.7169e+00 -3.0562e+00  2e+00  1e-02  1e-15\n",
      " 4: -1.9490e+00 -2.3416e+00  4e-01  3e-03  9e-16\n",
      " 5: -2.0223e+00 -2.1856e+00  2e-01  1e-03  6e-16\n",
      " 6: -2.0645e+00 -2.1072e+00  4e-02  1e-04  6e-16\n",
      " 7: -2.0798e+00 -2.0846e+00  5e-03  3e-16  7e-16\n",
      " 8: -2.0821e+00 -2.0822e+00  1e-04  3e-16  7e-16\n",
      " 9: -2.0822e+00 -2.0822e+00  1e-06  5e-16  9e-16\n",
      "Optimal solution found.\n",
      "30 support vectors out of 160 points\n",
      "Accuracy of soft margin svm based on cvxopt:  1.0\n"
     ]
    }
   ],
   "source": [
    "from sklearn.metrics import accuracy_score\n",
    "soft_margin_svm = Soft_Margin_SVM(C=0.1)\n",
    "soft_margin_svm.fit(X_train, y_train)\n",
    "y_pred = soft_margin_svm.predict(X_test)\n",
    "# 计算测试集准确率\n",
    "print('Accuracy of soft margin svm based on cvxopt: ', \n",
    "      accuracy_score(y_test, y_pred))"
   ]
  },
  {
   "cell_type": "code",
   "execution_count": null,
   "id": "7b92e05d",
   "metadata": {},
   "outputs": [],
   "source": []
  }
 ],
 "metadata": {
  "kernelspec": {
   "display_name": "Python 3 (ipykernel)",
   "language": "python",
   "name": "python3"
  },
  "language_info": {
   "codemirror_mode": {
    "name": "ipython",
    "version": 3
   },
   "file_extension": ".py",
   "mimetype": "text/x-python",
   "name": "python",
   "nbconvert_exporter": "python",
   "pygments_lexer": "ipython3",
   "version": "3.9.7"
  }
 },
 "nbformat": 4,
 "nbformat_minor": 5
}
