{
 "cells": [
  {
   "cell_type": "code",
   "execution_count": 1,
   "id": "10201812",
   "metadata": {},
   "outputs": [],
   "source": [
    "#导入相关模型\n",
    "import numpy as np\n",
    "import pandas as pd\n",
    "import matplotlib.pyplot as plt\n",
    "from sklearn.model_selection import train_test_split\n",
    "from cvxopt import matrix, solvers"
   ]
  },
  {
   "cell_type": "code",
   "execution_count": 2,
   "id": "89d0dd62",
   "metadata": {},
   "outputs": [
    {
     "name": "stdout",
     "output_type": "stream",
     "text": [
      "[[  5.72044382  -3.83154607]\n",
      " [  6.19298923  -2.96306716]\n",
      " [  6.02026911  -4.29966075]\n",
      " [  7.68104481  -1.52963345]\n",
      " [ -3.27272955  -9.29071542]\n",
      " [ -3.87748102  -9.63624078]\n",
      " [  7.22186117  -3.45542124]\n",
      " [ -0.5833701   -7.72699871]\n",
      " [  5.30082872  -5.6052761 ]\n",
      " [  7.242014    -2.18786491]\n",
      " [ -1.5236618  -10.98233184]\n",
      " [  8.01260591  -2.13067635]\n",
      " [  6.98662128  -4.71064609]\n",
      " [  6.54380951  -4.60703391]\n",
      " [ -3.18073741  -8.91752254]\n",
      " [  5.46237524  -5.92775883]\n",
      " [ -1.8081873   -7.36551136]\n",
      " [  3.22676295  -1.96410563]\n",
      " [  4.59913842  -3.82872607]\n",
      " [  2.2760133   -4.72812024]\n",
      " [  7.88391853  -3.05322682]\n",
      " [  6.34849126  -3.25160461]\n",
      " [ -3.75196805 -10.0062918 ]\n",
      " [  2.2786793   -8.46343855]\n",
      " [  6.53836923  -5.75090842]\n",
      " [ -4.02248557  -8.64845293]\n",
      " [  6.18695905  -4.80285253]\n",
      " [  5.7870133   -5.97995283]\n",
      " [  6.77467664  -5.16721181]\n",
      " [  5.86996669  -4.56612764]\n",
      " [  6.26440468  -5.24010406]\n",
      " [  6.87502893  -4.90654065]\n",
      " [ -2.37208204  -8.300547  ]\n",
      " [  6.90252209  -4.01973144]\n",
      " [  8.11192302  -3.81217905]\n",
      " [ -4.05954068  -9.45308211]\n",
      " [  5.8083499   -3.58697351]\n",
      " [ -0.56052196  -8.39369758]\n",
      " [  4.73838584  -5.52476409]\n",
      " [  3.96781927  -6.26142588]\n",
      " [ -2.91470896  -7.82645604]\n",
      " [ -2.34222272  -8.61480665]\n",
      " [ -1.1219439   -8.58228152]\n",
      " [  5.46582784  -5.2271844 ]\n",
      " [ -1.15854326 -10.35498452]\n",
      " [ -0.87793037  -9.96225196]\n",
      " [  4.52012918  -6.02598962]\n",
      " [  5.00395652  -4.54995839]\n",
      " [ -2.05950803  -8.05714606]\n",
      " [ -2.46879661 -10.37432308]\n",
      " [ -1.92372758  -9.05619515]\n",
      " [ -1.75650107  -9.499423  ]\n",
      " [  5.18798039  -5.42955744]\n",
      " [ -1.95698652  -7.84780814]\n",
      " [ -4.06392009  -8.68562031]\n",
      " [  5.14038837  -1.31107175]\n",
      " [ -1.80511133  -9.91080037]\n",
      " [  0.17908514 -10.14861545]\n",
      " [  6.42622906  -3.26988585]\n",
      " [ -3.555445    -9.55685142]\n",
      " [ -2.72644724  -8.44780449]\n",
      " [ -1.81300546  -9.27715869]\n",
      " [  5.03261681  -4.40016748]\n",
      " [  4.03048486  -4.28267572]\n",
      " [  0.01455564  -9.2663339 ]\n",
      " [ -3.50134733  -7.24698865]\n",
      " [ -2.77202451  -9.31569024]\n",
      " [  6.82194115  -3.29975543]\n",
      " [  0.10942345  -8.68456933]\n",
      " [ -2.86166392  -9.4127939 ]\n",
      " [  4.20755631  -4.45408711]\n",
      " [  2.75868502  -4.39741974]\n",
      " [ -1.18266616  -8.57261963]\n",
      " [ -1.48151519  -9.34807635]\n",
      " [  3.93319803  -3.19049648]\n",
      " [  7.50843136  -4.06962227]\n",
      " [  5.5903554   -1.90723157]\n",
      " [ -2.45585341  -8.72931346]\n",
      " [  6.90882608  -2.4204937 ]\n",
      " [ -1.20801059 -10.11310735]\n",
      " [ -3.63679695  -8.15868055]\n",
      " [  5.14825585  -4.27495922]\n",
      " [ -2.10096157  -9.26896824]\n",
      " [  5.91919451  -6.25085314]\n",
      " [  5.23076935  -5.86158504]\n",
      " [  5.75289872  -2.46472362]\n",
      " [  3.72310506  -3.7138241 ]\n",
      " [ -0.9028176   -8.97844323]\n",
      " [ -3.45070084  -8.64167259]\n",
      " [  4.50772389  -4.15630858]\n",
      " [ -2.50616932 -11.33217067]\n",
      " [ -1.78137172  -8.5831351 ]\n",
      " [ -2.05493205  -7.30671952]\n",
      " [  5.07338041  -3.72390572]\n",
      " [  6.31940887  -3.26650647]\n",
      " [ -1.07571519  -9.10023328]\n",
      " [ -1.0041566   -8.17464658]\n",
      " [ -2.85329041  -7.90477275]\n",
      " [ -0.84264091  -9.13055386]\n",
      " [  6.29083662  -4.76947423]\n",
      " [  5.76879671  -5.47656084]\n",
      " [ -0.15675807  -8.13294928]\n",
      " [ -2.95518209 -11.81714296]\n",
      " [  3.7237116   -4.5183388 ]\n",
      " [ -2.51005926  -9.14774015]\n",
      " [ -3.72853433  -9.58704613]\n",
      " [ -2.08507038 -10.42265953]\n",
      " [  6.26742696  -5.62821126]\n",
      " [  6.48679703  -6.44791937]\n",
      " [  3.70011958  -4.61812524]\n",
      " [  6.84592997  -4.81362946]\n",
      " [ -4.18634221  -9.66049375]\n",
      " [  5.15725139  -4.65007377]\n",
      " [ -0.29584142  -9.10473188]\n",
      " [  3.81223396  -5.30453753]\n",
      " [ -1.69446785  -9.07843211]\n",
      " [  6.98002424  -5.99844099]\n",
      " [ -1.70887157  -8.78700317]\n",
      " [ -1.14032146  -7.83038611]\n",
      " [  5.51704442  -5.71307585]\n",
      " [  5.9898292   -2.52029861]\n",
      " [  7.63825857  -2.71299707]\n",
      " [ -1.32305211  -9.79616976]\n",
      " [  6.13746128  -2.82592244]\n",
      " [ -0.20282633 -10.9359569 ]\n",
      " [  5.4063421   -2.16379499]\n",
      " [ -0.81681517  -7.97058872]\n",
      " [ -0.79706924  -6.82925639]\n",
      " [  0.90472897  -8.30610713]\n",
      " [ -1.81016807 -10.2221774 ]\n",
      " [  5.49039613  -4.40613833]\n",
      " [ -3.06666787  -9.05311084]\n",
      " [ -1.5766988   -8.51189573]\n",
      " [  3.95026516  -3.70669299]\n",
      " [ -1.49406645  -8.76193882]\n",
      " [  6.30446638  -3.18913882]\n",
      " [  2.33396417  -3.42293081]\n",
      " [  0.80903682  -9.52460193]\n",
      " [ -1.19480142  -8.99405484]\n",
      " [ -0.60917632  -8.52788719]\n",
      " [ -1.83547215  -8.12335589]\n",
      " [ -1.75406159  -9.41468013]\n",
      " [  5.7803436   -5.45899245]\n",
      " [ -5.30345295  -8.91154714]\n",
      " [  6.90719677  -4.89435639]\n",
      " [  5.37863694  -3.28870546]\n",
      " [  6.82027539  -4.12969635]\n",
      " [ -0.99393905  -7.62603787]\n",
      " [  4.87984664  -4.47756862]\n",
      " [ -2.72225705  -6.95112222]] [1 1 1 1 0 0 1 0 1 1 0 1 1 1 0 1 0 1 1 1 1 1 0 0 1 0 1 1 1 1 1 1 0 1 1 0 1\n",
      " 0 1 1 0 0 0 1 0 0 1 1 0 0 0 0 1 0 0 1 0 0 1 0 0 0 1 1 0 0 0 1 0 0 1 1 0 0\n",
      " 1 1 1 0 1 0 0 1 0 1 1 1 1 0 0 1 0 0 0 1 1 0 0 0 0 1 1 0 0 1 0 0 0 1 1 1 1\n",
      " 0 1 0 1 0 1 0 0 1 1 1 0 1 0 1 0 0 0 0 1 0 0 1 0 1 1 0 0 0 0 0 1 0 1 1 1 0\n",
      " 1 0]\n"
     ]
    }
   ],
   "source": [
    "#导入模拟二分类数据生成模块\n",
    "from sklearn.datasets._samples_generator import make_blobs\n",
    "#生成模拟二分类数据集\n",
    "X, y = make_blobs(n_samples = 150, n_features = 2, centers = 2, cluster_std = 1.2, random_state = 40)\n",
    "\n",
    "print(X, y)"
   ]
  },
  {
   "cell_type": "code",
   "execution_count": 3,
   "id": "3f188b3a",
   "metadata": {},
   "outputs": [
    {
     "data": {
      "text/plain": [
       "array([ 1.,  1.,  1.,  1., -1., -1.,  1., -1.,  1.,  1., -1.,  1.,  1.,\n",
       "        1., -1.,  1., -1.,  1.,  1.,  1.,  1.,  1., -1., -1.,  1., -1.,\n",
       "        1.,  1.,  1.,  1.,  1.,  1., -1.,  1.,  1., -1.,  1., -1.,  1.,\n",
       "        1., -1., -1., -1.,  1., -1., -1.,  1.,  1., -1., -1., -1., -1.,\n",
       "        1., -1., -1.,  1., -1., -1.,  1., -1., -1., -1.,  1.,  1., -1.,\n",
       "       -1., -1.,  1., -1., -1.,  1.,  1., -1., -1.,  1.,  1.,  1., -1.,\n",
       "        1., -1., -1.,  1., -1.,  1.,  1.,  1.,  1., -1., -1.,  1., -1.,\n",
       "       -1., -1.,  1.,  1., -1., -1., -1., -1.,  1.,  1., -1., -1.,  1.,\n",
       "       -1., -1., -1.,  1.,  1.,  1.,  1., -1.,  1., -1.,  1., -1.,  1.,\n",
       "       -1., -1.,  1.,  1.,  1., -1.,  1., -1.,  1., -1., -1., -1., -1.,\n",
       "        1., -1., -1.,  1., -1.,  1.,  1., -1., -1., -1., -1., -1.,  1.,\n",
       "       -1.,  1.,  1.,  1., -1.,  1., -1.])"
      ]
     },
     "execution_count": 3,
     "metadata": {},
     "output_type": "execute_result"
    }
   ],
   "source": [
    "#将标签转换为1/-1\n",
    "y_ = y.copy()\n",
    "y_[y_ == 0] = -1\n",
    "y_ = y_.astype(float)\n",
    "y_"
   ]
  },
  {
   "cell_type": "code",
   "execution_count": 4,
   "id": "8274d758",
   "metadata": {},
   "outputs": [
    {
     "data": {
      "image/png": "[encoded data removed]",
      "text/plain": [
       "<Figure size 432x288 with 1 Axes>"
      ]
     },
     "metadata": {
      "needs_background": "light"
     },
     "output_type": "display_data"
    }
   ],
   "source": [
    "#划分训练集和测试集\n",
    "X_train, X_test, y_train, y_test = train_test_split(X, y_, test_size = 0.3, random_state = 43)\n",
    "#设置颜色参数\n",
    "colors = {0:'r', 1:'g'}\n",
    "#绘制二分类数据集的散点图\n",
    "plt.scatter(X[:, 0], X[:, 1], marker = 'o', c = pd.Series(y).map(colors))\n",
    "plt.show()"
   ]
  },
  {
   "cell_type": "code",
   "execution_count": 5,
   "id": "285b5ece",
   "metadata": {},
   "outputs": [],
   "source": [
    "#实现线性可分支持向量机\n",
    "#硬间隔最大化策略\n",
    "class Hard_Margin_SVM:\n",
    "    ###线性可分支持向量机拟合方法\n",
    "    def fit(self, X, y):\n",
    "        #训练样本数和特征数\n",
    "        m, n = X.shape\n",
    "        \n",
    "        #初始化二次规划相关变量：P、q、G、h\n",
    "        self.P = matrix(np.identity(n + 1, dtype = np.float))\n",
    "        self.q = matrix(np.zeros((n + 1,), dtype = np.float))\n",
    "        self.G = matrix(np.zeros((m, n + 1), dtype = np.float))\n",
    "        self.h = -matrix(np.ones((m,), dtype = np.float))\n",
    "        \n",
    "        #将数据转为变量\n",
    "        self.P[0, 0] = 0\n",
    "        for i in range(m):\n",
    "            self.G[i, 0] = -y[i]\n",
    "            self.G[i, 1:] = -X[i, :] * y[i]\n",
    "        #构建二次规划求解\n",
    "        sol = solvers.qp(self.P, self.q, self.G, self.h)\n",
    "        \n",
    "        #对权重和偏置寻优\n",
    "        self.w = np.zeros(n, )\n",
    "        self.b = sol['x'][0]\n",
    "        for i in range(1, n + 1):\n",
    "            self.w[i - 1] = sol['x'][i]\n",
    "        return self.w, self.b\n",
    "    ###定义模型预测函数\n",
    "    def predict(self, X):\n",
    "        return np.sign(np.dot(self.w, X.T) + self.b)"
   ]
  },
  {
   "cell_type": "code",
   "execution_count": 6,
   "id": "5ab58824",
   "metadata": {},
   "outputs": [
    {
     "name": "stdout",
     "output_type": "stream",
     "text": [
      "     pcost       dcost       gap    pres   dres\n",
      " 0:  2.1061e-02  2.0725e+01  3e+02  2e+00  8e+02\n",
      " 1:  1.7678e-01 -4.0311e+01  5e+01  3e-01  1e+02\n",
      " 2:  2.5467e-01 -1.3854e+00  2e+00  1e-02  4e+00\n",
      " 3:  2.1218e-01  4.0205e-02  2e-01  6e-04  2e-01\n",
      " 4:  1.8309e-01  1.5738e-01  3e-02  8e-05  4e-02\n",
      " 5:  1.8241e-01  1.8207e-01  3e-04  1e-06  4e-04\n",
      " 6:  1.8239e-01  1.8239e-01  3e-06  1e-08  4e-06\n",
      " 7:  1.8239e-01  1.8239e-01  3e-08  1e-10  4e-08\n",
      "Optimal solution found.\n",
      "Accuracy: 1.0\n"
     ]
    },
    {
     "name": "stderr",
     "output_type": "stream",
     "text": [
      "C:\\Users\\hp\\AppData\\Local\\Temp/ipykernel_9032/2783403605.py:10: DeprecationWarning: `np.float` is a deprecated alias for the builtin `float`. To silence this warning, use `float` by itself. Doing this will not modify any behavior and is safe. If you specifically wanted the numpy scalar type, use `np.float64` here.\n",
      "Deprecated in NumPy 1.20; for more details and guidance: https://numpy.org/devdocs/release/1.20.0-notes.html#deprecations\n",
      "  self.P = matrix(np.identity(n + 1, dtype = np.float))\n",
      "C:\\Users\\hp\\AppData\\Local\\Temp/ipykernel_9032/2783403605.py:11: DeprecationWarning: `np.float` is a deprecated alias for the builtin `float`. To silence this warning, use `float` by itself. Doing this will not modify any behavior and is safe. If you specifically wanted the numpy scalar type, use `np.float64` here.\n",
      "Deprecated in NumPy 1.20; for more details and guidance: https://numpy.org/devdocs/release/1.20.0-notes.html#deprecations\n",
      "  self.q = matrix(np.zeros((n + 1,), dtype = np.float))\n",
      "C:\\Users\\hp\\AppData\\Local\\Temp/ipykernel_9032/2783403605.py:12: DeprecationWarning: `np.float` is a deprecated alias for the builtin `float`. To silence this warning, use `float` by itself. Doing this will not modify any behavior and is safe. If you specifically wanted the numpy scalar type, use `np.float64` here.\n",
      "Deprecated in NumPy 1.20; for more details and guidance: https://numpy.org/devdocs/release/1.20.0-notes.html#deprecations\n",
      "  self.G = matrix(np.zeros((m, n + 1), dtype = np.float))\n",
      "C:\\Users\\hp\\AppData\\Local\\Temp/ipykernel_9032/2783403605.py:13: DeprecationWarning: `np.float` is a deprecated alias for the builtin `float`. To silence this warning, use `float` by itself. Doing this will not modify any behavior and is safe. If you specifically wanted the numpy scalar type, use `np.float64` here.\n",
      "Deprecated in NumPy 1.20; for more details and guidance: https://numpy.org/devdocs/release/1.20.0-notes.html#deprecations\n",
      "  self.h = -matrix(np.ones((m,), dtype = np.float))\n"
     ]
    }
   ],
   "source": [
    "#创建线性可分支持向量机模型实例\n",
    "hard_margin_svm = Hard_Margin_SVM()\n",
    "#执行训练\n",
    "hard_margin_svm.fit(X_train, y_train)\n",
    "#模型预测\n",
    "y_pred = hard_margin_svm.predict(X_test)\n",
    "# print(len(X_test))\n",
    "# print(len(y_test))\n",
    "# print(len(y_pred))\n",
    "# print(y_test, y_pred)\n",
    "from sklearn.metrics import accuracy_score\n",
    "#计算测试集上的分类准确率\n",
    "print('Accuracy:', accuracy_score(y_test, y_pred))"
   ]
  },
  {
   "cell_type": "code",
   "execution_count": 7,
   "id": "f6dae21e",
   "metadata": {},
   "outputs": [
    {
     "name": "stdout",
     "output_type": "stream",
     "text": [
      "Accuracy: 1.0\n"
     ]
    }
   ],
   "source": [
    "#导入线性SVM分类模块\n",
    "from sklearn.svm import LinearSVC\n",
    "#创建模型实例\n",
    "clf = LinearSVC(random_state = 0, tol = 1e-5)\n",
    "#训练\n",
    "clf.fit(X_train, y_train)\n",
    "#预测\n",
    "y_pred = clf.predict(X_test)\n",
    "#计算测试集上的分类准确率\n",
    "print('Accuracy:', accuracy_score(y_test, y_pred))"
   ]
  },
  {
   "cell_type": "code",
   "execution_count": null,
   "id": "dffe191c",
   "metadata": {},
   "outputs": [],
   "source": []
  }
 ],
 "metadata": {
  "kernelspec": {
   "display_name": "Python 3 (ipykernel)",
   "language": "python",
   "name": "python3"
  },
  "language_info": {
   "codemirror_mode": {
    "name": "ipython",
    "version": 3
   },
   "file_extension": ".py",
   "mimetype": "text/x-python",
   "name": "python",
   "nbconvert_exporter": "python",
   "pygments_lexer": "ipython3",
   "version": "3.9.7"
  }
 },
 "nbformat": 4,
 "nbformat_minor": 5
}
