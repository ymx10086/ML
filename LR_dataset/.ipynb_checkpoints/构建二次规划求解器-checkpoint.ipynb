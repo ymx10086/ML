{
 "cells": [
  {
   "cell_type": "code",
   "execution_count": 1,
   "id": "44cb8b1b",
   "metadata": {},
   "outputs": [],
   "source": [
    "#导入相关模块\n",
    "from cvxopt import matrix, solvers"
   ]
  },
  {
   "cell_type": "code",
   "execution_count": 3,
   "id": "517009aa",
   "metadata": {},
   "outputs": [],
   "source": [
    "#定义二次规划的系数项\n",
    "P = matrix([[1.0, 0.0], [0.0, 0.0]])\n",
    "q = matrix([3.0, 4.0])\n",
    "G = matrix([[-1.0, 0.0, -1.0, 2.0, 3.0], [0.0, -1.0, -3.0, 5.0, 4.0]])\n",
    "h = matrix([0.0, 0.0, -15.0, 100.0, 80.0])"
   ]
  },
  {
   "cell_type": "code",
   "execution_count": 4,
   "id": "3b09cd93",
   "metadata": {},
   "outputs": [
    {
     "name": "stdout",
     "output_type": "stream",
     "text": [
      "     pcost       dcost       gap    pres   dres\n",
      " 0:  1.0780e+02 -7.6366e+02  9e+02  0e+00  4e+01\n",
      " 1:  9.3245e+01  9.7637e+00  8e+01  1e-16  3e+00\n",
      " 2:  6.7311e+01  3.2553e+01  3e+01  3e-18  1e+00\n",
      " 3:  2.6071e+01  1.5068e+01  1e+01  9e-17  7e-01\n",
      " 4:  3.7092e+01  2.3152e+01  1e+01  1e-16  4e-01\n",
      " 5:  2.5352e+01  1.8652e+01  7e+00  3e-16  7e-17\n",
      " 6:  2.0062e+01  1.9974e+01  9e-02  9e-17  7e-17\n",
      " 7:  2.0001e+01  2.0000e+01  9e-04  6e-17  2e-16\n",
      " 8:  2.0000e+01  2.0000e+01  9e-06  9e-17  4e-16\n",
      "Optimal solution found.\n"
     ]
    }
   ],
   "source": [
    "#构建求解器\n",
    "sol = solvers.qp(P, q, G, h)"
   ]
  },
  {
   "cell_type": "code",
   "execution_count": 5,
   "id": "c3fdb664",
   "metadata": {},
   "outputs": [
    {
     "name": "stdout",
     "output_type": "stream",
     "text": [
      "[ 7.13e-07]\n",
      "[ 5.00e+00]\n",
      " 20.00000617311241\n"
     ]
    }
   ],
   "source": [
    "#获取最优值\n",
    "print(sol['x'],sol['primal objective'])"
   ]
  },
  {
   "cell_type": "code",
   "execution_count": null,
   "id": "c9781e65",
   "metadata": {},
   "outputs": [],
   "source": []
  }
 ],
 "metadata": {
  "kernelspec": {
   "display_name": "Python 3 (ipykernel)",
   "language": "python",
   "name": "python3"
  },
  "language_info": {
   "codemirror_mode": {
    "name": "ipython",
    "version": 3
   },
   "file_extension": ".py",
   "mimetype": "text/x-python",
   "name": "python",
   "nbconvert_exporter": "python",
   "pygments_lexer": "ipython3",
   "version": "3.9.7"
  }
 },
 "nbformat": 4,
 "nbformat_minor": 5
}
